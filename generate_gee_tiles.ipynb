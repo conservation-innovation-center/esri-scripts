{
 "cells": [
  {
   "attachments": {},
   "cell_type": "markdown",
   "id": "3e31c516",
   "metadata": {},
   "source": [
    "# Display GEE remote sensing data on ESRI webmaps\n",
    "This notebook provides a basic workflow to allow for the display of remote sensing images available on Google Earth Engine as layers on ESRI webmaps. The webmap and layers holding these images should be created and saved before running this script. The basic process is:\n",
    "\n",
    "1. Images are first curated and processed on GEE.\n",
    "2. We then define visualization parameters and generate tiles and publicly accessible urls. \n",
    "3. These are then used to update the tile url attributes of existing layers on an existing ESRI webmap. \n",
    "\n",
    "This notebook demonstrates the curation and addition of NAIP data, but the process can be used for any image assets available on GEE, including NLCD, Sentinel-2, Sentinel-1, and SRTM Digital Elevation data."
   ]
  },
  {
   "cell_type": "markdown",
   "id": "0a6950b3",
   "metadata": {},
   "source": [
    "## Setup"
   ]
  },
  {
   "cell_type": "code",
   "execution_count": 3,
   "id": "715ca628",
   "metadata": {},
   "outputs": [],
   "source": [
    "# import arc libraries\n",
    "from arcgis.gis import GIS\n",
    "from arcgis.mapping import WebMap\n",
    "\n",
    "import pandas as pd"
   ]
  },
  {
   "cell_type": "code",
   "execution_count": 4,
   "id": "fbe682d7",
   "metadata": {},
   "outputs": [
    {
     "data": {
      "text/html": [
       "<p>To authorize access needed by Earth Engine, open the following\n",
       "        URL in a web browser and follow the instructions:</p>\n",
       "        <p><a href=https://code.earthengine.google.com/client-auth?scopes=https%3A//www.googleapis.com/auth/earthengine%20https%3A//www.googleapis.com/auth/devstorage.full_control&request_id=o0xHinm3dD2B64zDtyA2czdXQBqx_Dt6kpvg2stW5Oc&tc=xy39MzdIzrxk6FhiREH2ayV0fm4XEaXJGzQ2ok5v_nk&cc=10K-OYZEeDRS7WS7KjRPFelPEOZNuLrrVfuIkuWALlM>https://code.earthengine.google.com/client-auth?scopes=https%3A//www.googleapis.com/auth/earthengine%20https%3A//www.googleapis.com/auth/devstorage.full_control&request_id=o0xHinm3dD2B64zDtyA2czdXQBqx_Dt6kpvg2stW5Oc&tc=xy39MzdIzrxk6FhiREH2ayV0fm4XEaXJGzQ2ok5v_nk&cc=10K-OYZEeDRS7WS7KjRPFelPEOZNuLrrVfuIkuWALlM</a></p>\n",
       "        <p>The authorization workflow will generate a code, which you should paste in the box below.</p>\n",
       "        "
      ],
      "text/plain": [
       "<IPython.core.display.HTML object>"
      ]
     },
     "metadata": {},
     "output_type": "display_data"
    },
    {
     "name": "stdout",
     "output_type": "stream",
     "text": [
      "\n",
      "Successfully saved authorization token.\n"
     ]
    }
   ],
   "source": [
    "# import and authenticate gee library\n",
    "import ee\n",
    "\n",
    "# trigger an interactive session that will allow you to authenticate to an existing GEE account through a browser\n",
    "ee.Authenticate()\n",
    "ee.Initialize()"
   ]
  },
  {
   "cell_type": "code",
   "execution_count": 45,
   "id": "43a610d7",
   "metadata": {},
   "outputs": [],
   "source": [
    "# define some global variables\n",
    "USER = 'jczawlytko' # your ArcOnline account that can access organizational assets\n",
    "PASSWORD = '!!Oyster2018' # password for above account\n",
    "WEBMAP = 'NAIP_tile_generator' # title of the existing webmap to be updated"
   ]
  },
  {
   "attachments": {},
   "cell_type": "markdown",
   "id": "36df45a2",
   "metadata": {},
   "source": [
    "## GEE\n",
    "Here we use Google Earth Engine to generate new tile urls for naip imagery"
   ]
  },
  {
   "cell_type": "code",
   "execution_count": 12,
   "id": "e2239d2c",
   "metadata": {},
   "outputs": [],
   "source": [
    "# get NAIP and TIGER catalogs\n",
    "NAIP = ee.ImageCollection(\"USDA/NAIP/DOQQ\")\n",
    "TIGER = ee.FeatureCollection(\"TIGER/2018/States\")\n"
   ]
  },
  {
   "cell_type": "code",
   "execution_count": 13,
   "id": "3170924b",
   "metadata": {},
   "outputs": [
    {
     "name": "stdout",
     "output_type": "stream",
     "text": [
      "Index(['State', 'T1', 'T2', 'co_fips'], dtype='object')\n"
     ]
    }
   ],
   "source": [
    "NAIP_datesURL = r\"https://raw.githubusercontent.com/conservation-innovation-center/landuse/develop/lookup_tables/landcover_dates.csv?token=GHSAT0AAAAAAB535E7NARE243YXZUWK7RQCY6QJ5MQ\"\n",
    "df = pd.read_csv(NAIP_datesURL,index_col=0)\n",
    "# df = pd.read_csv(NAIP_dates)\n",
    "print(df.columns)"
   ]
  },
  {
   "cell_type": "code",
   "execution_count": 40,
   "id": "64d2f274",
   "metadata": {},
   "outputs": [
    {
     "data": {
      "text/html": [
       "<div>\n",
       "<style scoped>\n",
       "    .dataframe tbody tr th:only-of-type {\n",
       "        vertical-align: middle;\n",
       "    }\n",
       "\n",
       "    .dataframe tbody tr th {\n",
       "        vertical-align: top;\n",
       "    }\n",
       "\n",
       "    .dataframe thead th {\n",
       "        text-align: right;\n",
       "    }\n",
       "</style>\n",
       "<table border=\"1\" class=\"dataframe\">\n",
       "  <thead>\n",
       "    <tr style=\"text-align: right;\">\n",
       "      <th></th>\n",
       "      <th>State</th>\n",
       "      <th>T1</th>\n",
       "      <th>T2</th>\n",
       "      <th>co_fips</th>\n",
       "    </tr>\n",
       "    <tr>\n",
       "      <th>County</th>\n",
       "      <th></th>\n",
       "      <th></th>\n",
       "      <th></th>\n",
       "      <th></th>\n",
       "    </tr>\n",
       "  </thead>\n",
       "  <tbody>\n",
       "    <tr>\n",
       "      <th>District of Columbia</th>\n",
       "      <td>DC</td>\n",
       "      <td>2013</td>\n",
       "      <td>2017</td>\n",
       "      <td>wash_11001</td>\n",
       "    </tr>\n",
       "    <tr>\n",
       "      <th>Kent</th>\n",
       "      <td>DE</td>\n",
       "      <td>2013</td>\n",
       "      <td>2018</td>\n",
       "      <td>kent_10001</td>\n",
       "    </tr>\n",
       "    <tr>\n",
       "      <th>New Castle</th>\n",
       "      <td>DE</td>\n",
       "      <td>2013</td>\n",
       "      <td>2018</td>\n",
       "      <td>newc_10003</td>\n",
       "    </tr>\n",
       "    <tr>\n",
       "      <th>Sussex</th>\n",
       "      <td>DE</td>\n",
       "      <td>2013</td>\n",
       "      <td>2018</td>\n",
       "      <td>suss_10005</td>\n",
       "    </tr>\n",
       "    <tr>\n",
       "      <th>Allegany</th>\n",
       "      <td>MD</td>\n",
       "      <td>2013</td>\n",
       "      <td>2018</td>\n",
       "      <td>alle_24001</td>\n",
       "    </tr>\n",
       "  </tbody>\n",
       "</table>\n",
       "</div>"
      ],
      "text/plain": [
       "                     State    T1    T2     co_fips\n",
       "County                                            \n",
       "District of Columbia    DC  2013  2017  wash_11001\n",
       "Kent                    DE  2013  2018  kent_10001\n",
       "New Castle              DE  2013  2018  newc_10003\n",
       "Sussex                  DE  2013  2018  suss_10005\n",
       "Allegany                MD  2013  2018  alle_24001"
      ]
     },
     "execution_count": 40,
     "metadata": {},
     "output_type": "execute_result"
    }
   ],
   "source": [
    "df.head()"
   ]
  },
  {
   "cell_type": "code",
   "execution_count": 8,
   "id": "3df91fe8",
   "metadata": {},
   "outputs": [],
   "source": [
    "# define image visualization parameters\n",
    "naip_viz_params = {\n",
    "  'bands':['R', 'G', 'B'],\n",
    "  'min': 0,\n",
    "  'max': 200\n",
    "}"
   ]
  },
  {
   "cell_type": "code",
   "execution_count": 51,
   "id": "e84ae06e",
   "metadata": {},
   "outputs": [
    {
     "name": "stdout",
     "output_type": "stream",
     "text": [
      "7 sets of tiles generated                        \n"
     ]
    }
   ],
   "source": [
    "# create a dictionary to hold tiles by state keyword\n",
    "TILES = {}\n",
    "\n",
    "# loop thru df\n",
    "\n",
    "for index, row in df.iterrows():\n",
    "    # get state name and T1 and T2 NAIP years\n",
    "    State = row ['State']\n",
    "    T1 = row['T1']\n",
    "    T2 = row['T2']\n",
    "    print(f\"Generating tiles for {row ['State']}                \", end='\\r')\n",
    "    \n",
    "    # get stat bounds\n",
    "    st_bounds = TIGER.filterMetadata('NAME', 'equals', State)\n",
    "\n",
    "    #create state naip collection then filter by T1 and T2 dates\n",
    "    st_naip = NAIP.filterBounds(st_bounds)\n",
    "    naipT1 = st_naip.filterDate(f'{T1}-01-01', f'{T1}-12-31').median()\n",
    "    naipT2 = st_naip.filterDate(f'{T2}-01-01', f'{T2}-12-31').median()\n",
    "\n",
    "    #create \n",
    "    map_id_dict1 = ee.Image(naipT1).getMapId(naip_viz_params)\n",
    "    map_id_dict2 = ee.Image(naipT2).getMapId(naip_viz_params)\n",
    "    tiles1 = map_id_dict1['tile_fetcher'].url_format\n",
    "    tiles2 = map_id_dict2['tile_fetcher'].url_format\n",
    "    TILES[State] = [tiles1, tiles2]\n",
    "    \n",
    "print(f\"{len(TILES)} sets of tiles generated                        \")"
   ]
  },
  {
   "cell_type": "code",
   "execution_count": 52,
   "id": "68501a2e",
   "metadata": {},
   "outputs": [
    {
     "data": {
      "text/plain": [
       "{'DC': ['https://earthengine.googleapis.com/v1alpha/projects/earthengine-legacy/maps/394619e3ab182886ae5e8c39d09c4630-cbe04548edc7c1e6aac9fbf0bc8e4e51/tiles/{z}/{x}/{y}',\n",
       "  'https://earthengine.googleapis.com/v1alpha/projects/earthengine-legacy/maps/a0e879da31c8fd512e8b2247092ef755-4a8bb95f84152637b0084189f768cdde/tiles/{z}/{x}/{y}'],\n",
       " 'DE': ['https://earthengine.googleapis.com/v1alpha/projects/earthengine-legacy/maps/394619e3ab182886ae5e8c39d09c4630-77954d57eed0a25a177fb62c7c815e11/tiles/{z}/{x}/{y}',\n",
       "  'https://earthengine.googleapis.com/v1alpha/projects/earthengine-legacy/maps/3ce5c8e1b7c13951a0ca86a1124b5b99-404f42ba889f0a4fbc4b191504bde116/tiles/{z}/{x}/{y}'],\n",
       " 'MD': ['https://earthengine.googleapis.com/v1alpha/projects/earthengine-legacy/maps/394619e3ab182886ae5e8c39d09c4630-15bfddfb9193323374ec17bfefe22638/tiles/{z}/{x}/{y}',\n",
       "  'https://earthengine.googleapis.com/v1alpha/projects/earthengine-legacy/maps/3ce5c8e1b7c13951a0ca86a1124b5b99-89d6cf0006f4004d902792b7cc85e921/tiles/{z}/{x}/{y}'],\n",
       " 'NY': ['https://earthengine.googleapis.com/v1alpha/projects/earthengine-legacy/maps/394619e3ab182886ae5e8c39d09c4630-b72506c77955da63495c51e2b00845e8/tiles/{z}/{x}/{y}',\n",
       "  'https://earthengine.googleapis.com/v1alpha/projects/earthengine-legacy/maps/a0e879da31c8fd512e8b2247092ef755-75a68459fb6c91788d5efe26c2afb1cd/tiles/{z}/{x}/{y}'],\n",
       " 'PA': ['https://earthengine.googleapis.com/v1alpha/projects/earthengine-legacy/maps/394619e3ab182886ae5e8c39d09c4630-29e955c6cd9dfab2768766184c39284f/tiles/{z}/{x}/{y}',\n",
       "  'https://earthengine.googleapis.com/v1alpha/projects/earthengine-legacy/maps/a0e879da31c8fd512e8b2247092ef755-74f7ce24261f04b3445fe18ea0e73066/tiles/{z}/{x}/{y}'],\n",
       " 'VA': ['https://earthengine.googleapis.com/v1alpha/projects/earthengine-legacy/maps/4e9439c27b4bf099de1f33fe35a0702f-1698c87996bad5f5fcc2d36968c55e9d/tiles/{z}/{x}/{y}',\n",
       "  'https://earthengine.googleapis.com/v1alpha/projects/earthengine-legacy/maps/3ce5c8e1b7c13951a0ca86a1124b5b99-7798c33605e73291f4b861a7a6006391/tiles/{z}/{x}/{y}'],\n",
       " 'WV': ['https://earthengine.googleapis.com/v1alpha/projects/earthengine-legacy/maps/4e9439c27b4bf099de1f33fe35a0702f-0acbccef7e00ce279b2955fe5551e84d/tiles/{z}/{x}/{y}',\n",
       "  'https://earthengine.googleapis.com/v1alpha/projects/earthengine-legacy/maps/3ce5c8e1b7c13951a0ca86a1124b5b99-5baececc2c46cb4b4b67c4ce951291f3/tiles/{z}/{x}/{y}']}"
      ]
     },
     "execution_count": 52,
     "metadata": {},
     "output_type": "execute_result"
    }
   ],
   "source": [
    "TILES"
   ]
  },
  {
   "attachments": {},
   "cell_type": "markdown",
   "id": "5427d43c",
   "metadata": {},
   "source": [
    "## ESRI webmap\n",
    "In this section we update the tile urls attributes of the layers on an ESRI webmap. This webmap and layers should exist already  "
   ]
  },
  {
   "cell_type": "code",
   "execution_count": 53,
   "id": "6067c94d",
   "metadata": {},
   "outputs": [],
   "source": [
    "# first we create a arconline client with our credentials\n",
    "\n",
    "gis = GIS(username =  USER, password = PASSWORD)"
   ]
  },
  {
   "cell_type": "code",
   "execution_count": 46,
   "id": "30d2efe2",
   "metadata": {},
   "outputs": [],
   "source": [
    "# find the instance of the webmap we want to display gee imagery on\n",
    "search_results = gis.content.search(query = f'title:{WEBMAP}', item_type = 'Web Map')\n",
    "wm_item = search_results[0]"
   ]
  },
  {
   "cell_type": "code",
   "execution_count": 47,
   "id": "48352d28",
   "metadata": {},
   "outputs": [],
   "source": [
    "# cast the existing webmap into a WebMap class object\n",
    "web_map_obj = WebMap(wm_item)"
   ]
  },
  {
   "cell_type": "code",
   "execution_count": 54,
   "id": "21be22f6",
   "metadata": {
    "scrolled": true
   },
   "outputs": [
    {
     "data": {
      "text/plain": [
       "[{\n",
       "   \"templateUrl\": \"https://earthengine.googleapis.com/v1alpha/projects/earthengine-legacy/maps/394619e3ab182886ae5e8c39d09c4630-2eed49ecf7d74539b7d2c8bfe97d3994/tiles/{z}/{x}/{y}\",\n",
       "   \"copyright\": \"Google Earth Engine, USGS\",\n",
       "   \"fullExtent\": {\n",
       "     \"xmin\": -20037508.342787,\n",
       "     \"ymin\": -20037508.34278,\n",
       "     \"xmax\": 20037508.34278,\n",
       "     \"ymax\": 20037508.342787,\n",
       "     \"spatialReference\": {\n",
       "       \"wkid\": 102100\n",
       "     }\n",
       "   },\n",
       "   \"opacity\": 1,\n",
       "   \"visibility\": true,\n",
       "   \"id\": \"WebTiled_6130\",\n",
       "   \"title\": \"NAIP DC 2017\",\n",
       "   \"type\": \"WebTiledLayer\",\n",
       "   \"layerType\": \"WebTiledLayer\"\n",
       " },\n",
       " {\n",
       "   \"templateUrl\": \"https://earthengine.googleapis.com/v1alpha/projects/earthengine-legacy/maps/a0e879da31c8fd512e8b2247092ef755-ec43e170592b7bf7fa88dceb6ef52c23/tiles/{z}/{x}/{y}\",\n",
       "   \"copyright\": \"Google Earth Engine, USGS\",\n",
       "   \"fullExtent\": {\n",
       "     \"xmin\": -20037508.342787,\n",
       "     \"ymin\": -20037508.34278,\n",
       "     \"xmax\": 20037508.34278,\n",
       "     \"ymax\": 20037508.342787,\n",
       "     \"spatialReference\": {\n",
       "       \"wkid\": 102100\n",
       "     }\n",
       "   },\n",
       "   \"opacity\": 1,\n",
       "   \"visibility\": true,\n",
       "   \"id\": \"WebTiled_3626\",\n",
       "   \"title\": \"NAIP DC 2013\",\n",
       "   \"type\": \"WebTiledLayer\",\n",
       "   \"layerType\": \"WebTiledLayer\"\n",
       " }]"
      ]
     },
     "execution_count": 54,
     "metadata": {},
     "output_type": "execute_result"
    }
   ],
   "source": [
    "# obtain the layers that will display NAIP data\n",
    "layers = web_map_obj.layers\n",
    "naip_layers = [layer for layer in layers if 'NAIP' in layer['title']]"
   ]
  },
  {
   "cell_type": "code",
   "execution_count": 55,
   "id": "178cdb22",
   "metadata": {},
   "outputs": [
    {
     "name": "stdout",
     "output_type": "stream",
     "text": [
      "7\n",
      "DC ['https://earthengine.googleapis.com/v1alpha/projects/earthengine-legacy/maps/394619e3ab182886ae5e8c39d09c4630-cbe04548edc7c1e6aac9fbf0bc8e4e51/tiles/{z}/{x}/{y}', 'https://earthengine.googleapis.com/v1alpha/projects/earthengine-legacy/maps/a0e879da31c8fd512e8b2247092ef755-4a8bb95f84152637b0084189f768cdde/tiles/{z}/{x}/{y}']\n",
      "\n",
      "DE ['https://earthengine.googleapis.com/v1alpha/projects/earthengine-legacy/maps/394619e3ab182886ae5e8c39d09c4630-77954d57eed0a25a177fb62c7c815e11/tiles/{z}/{x}/{y}', 'https://earthengine.googleapis.com/v1alpha/projects/earthengine-legacy/maps/3ce5c8e1b7c13951a0ca86a1124b5b99-404f42ba889f0a4fbc4b191504bde116/tiles/{z}/{x}/{y}']\n",
      "\n"
     ]
    },
    {
     "ename": "IndexError",
     "evalue": "list index out of range",
     "output_type": "error",
     "traceback": [
      "\u001b[1;31m---------------------------------------------------------------------------\u001b[0m",
      "\u001b[1;31mIndexError\u001b[0m                                Traceback (most recent call last)",
      "\u001b[1;32m<ipython-input-55-fe3e1b85028e>\u001b[0m in \u001b[0;36m<module>\u001b[1;34m\u001b[0m\n\u001b[0;32m      4\u001b[0m     \u001b[0mprint\u001b[0m\u001b[1;33m(\u001b[0m\u001b[1;33m)\u001b[0m\u001b[1;33m\u001b[0m\u001b[1;33m\u001b[0m\u001b[0m\n\u001b[0;32m      5\u001b[0m     \u001b[0mlayers\u001b[0m \u001b[1;33m=\u001b[0m \u001b[1;33m[\u001b[0m\u001b[0mnaip_layer\u001b[0m \u001b[1;32mfor\u001b[0m \u001b[0mnaip_layer\u001b[0m \u001b[1;32min\u001b[0m \u001b[0mnaip_layers\u001b[0m \u001b[1;32mif\u001b[0m \u001b[0mstate\u001b[0m \u001b[1;32min\u001b[0m \u001b[0mnaip_layer\u001b[0m\u001b[1;33m[\u001b[0m\u001b[1;34m'title'\u001b[0m\u001b[1;33m]\u001b[0m\u001b[1;33m]\u001b[0m\u001b[1;33m\u001b[0m\u001b[1;33m\u001b[0m\u001b[0m\n\u001b[1;32m----> 6\u001b[1;33m     \u001b[1;33m[\u001b[0m\u001b[0mlayers\u001b[0m\u001b[1;33m[\u001b[0m\u001b[0mi\u001b[0m\u001b[1;33m]\u001b[0m\u001b[1;33m.\u001b[0m\u001b[0mupdate\u001b[0m\u001b[1;33m(\u001b[0m\u001b[1;33m{\u001b[0m\u001b[1;34m'templateUrl'\u001b[0m\u001b[1;33m:\u001b[0m\u001b[0mtile\u001b[0m\u001b[1;33m}\u001b[0m\u001b[1;33m)\u001b[0m \u001b[1;32mfor\u001b[0m \u001b[0mi\u001b[0m\u001b[1;33m,\u001b[0m \u001b[0mtile\u001b[0m \u001b[1;32min\u001b[0m \u001b[0menumerate\u001b[0m\u001b[1;33m(\u001b[0m \u001b[0mtiles\u001b[0m\u001b[1;33m)\u001b[0m\u001b[1;33m]\u001b[0m\u001b[1;33m\u001b[0m\u001b[1;33m\u001b[0m\u001b[0m\n\u001b[0m",
      "\u001b[1;32m<ipython-input-55-fe3e1b85028e>\u001b[0m in \u001b[0;36m<listcomp>\u001b[1;34m(.0)\u001b[0m\n\u001b[0;32m      4\u001b[0m     \u001b[0mprint\u001b[0m\u001b[1;33m(\u001b[0m\u001b[1;33m)\u001b[0m\u001b[1;33m\u001b[0m\u001b[1;33m\u001b[0m\u001b[0m\n\u001b[0;32m      5\u001b[0m     \u001b[0mlayers\u001b[0m \u001b[1;33m=\u001b[0m \u001b[1;33m[\u001b[0m\u001b[0mnaip_layer\u001b[0m \u001b[1;32mfor\u001b[0m \u001b[0mnaip_layer\u001b[0m \u001b[1;32min\u001b[0m \u001b[0mnaip_layers\u001b[0m \u001b[1;32mif\u001b[0m \u001b[0mstate\u001b[0m \u001b[1;32min\u001b[0m \u001b[0mnaip_layer\u001b[0m\u001b[1;33m[\u001b[0m\u001b[1;34m'title'\u001b[0m\u001b[1;33m]\u001b[0m\u001b[1;33m]\u001b[0m\u001b[1;33m\u001b[0m\u001b[1;33m\u001b[0m\u001b[0m\n\u001b[1;32m----> 6\u001b[1;33m     \u001b[1;33m[\u001b[0m\u001b[0mlayers\u001b[0m\u001b[1;33m[\u001b[0m\u001b[0mi\u001b[0m\u001b[1;33m]\u001b[0m\u001b[1;33m.\u001b[0m\u001b[0mupdate\u001b[0m\u001b[1;33m(\u001b[0m\u001b[1;33m{\u001b[0m\u001b[1;34m'templateUrl'\u001b[0m\u001b[1;33m:\u001b[0m\u001b[0mtile\u001b[0m\u001b[1;33m}\u001b[0m\u001b[1;33m)\u001b[0m \u001b[1;32mfor\u001b[0m \u001b[0mi\u001b[0m\u001b[1;33m,\u001b[0m \u001b[0mtile\u001b[0m \u001b[1;32min\u001b[0m \u001b[0menumerate\u001b[0m\u001b[1;33m(\u001b[0m \u001b[0mtiles\u001b[0m\u001b[1;33m)\u001b[0m\u001b[1;33m]\u001b[0m\u001b[1;33m\u001b[0m\u001b[1;33m\u001b[0m\u001b[0m\n\u001b[0m",
      "\u001b[1;31mIndexError\u001b[0m: list index out of range"
     ]
    }
   ],
   "source": [
    "print(len(TILES.items()))\n",
    "for state, tiles in TILES.items():\n",
    "    print(state,tiles)\n",
    "    print()\n",
    "    layers = [naip_layer for naip_layer in naip_layers if state in naip_layer['title']]\n",
    "    [layers[i].update({'templateUrl':tile}) for i, tile in enumerate( tiles)]"
   ]
  },
  {
   "cell_type": "code",
   "execution_count": 59,
   "id": "606d4b3a",
   "metadata": {},
   "outputs": [
    {
     "data": {
      "text/plain": [
       "[{\n",
       "   \"templateUrl\": \"https://earthengine.googleapis.com/v1alpha/projects/earthengine-legacy/maps/394619e3ab182886ae5e8c39d09c4630-cbe04548edc7c1e6aac9fbf0bc8e4e51/tiles/{z}/{x}/{y}\",\n",
       "   \"copyright\": \"Google Earth Engine, USGS\",\n",
       "   \"fullExtent\": {\n",
       "     \"xmin\": -20037508.342787,\n",
       "     \"ymin\": -20037508.34278,\n",
       "     \"xmax\": 20037508.34278,\n",
       "     \"ymax\": 20037508.342787,\n",
       "     \"spatialReference\": {\n",
       "       \"wkid\": 102100\n",
       "     }\n",
       "   },\n",
       "   \"opacity\": 1,\n",
       "   \"visibility\": true,\n",
       "   \"id\": \"WebTiled_6130\",\n",
       "   \"title\": \"NAIP DC 2017\",\n",
       "   \"type\": \"WebTiledLayer\",\n",
       "   \"layerType\": \"WebTiledLayer\"\n",
       " },\n",
       " {\n",
       "   \"templateUrl\": \"https://earthengine.googleapis.com/v1alpha/projects/earthengine-legacy/maps/a0e879da31c8fd512e8b2247092ef755-4a8bb95f84152637b0084189f768cdde/tiles/{z}/{x}/{y}\",\n",
       "   \"copyright\": \"Google Earth Engine, USGS\",\n",
       "   \"fullExtent\": {\n",
       "     \"xmin\": -20037508.342787,\n",
       "     \"ymin\": -20037508.34278,\n",
       "     \"xmax\": 20037508.34278,\n",
       "     \"ymax\": 20037508.342787,\n",
       "     \"spatialReference\": {\n",
       "       \"wkid\": 102100\n",
       "     }\n",
       "   },\n",
       "   \"opacity\": 1,\n",
       "   \"visibility\": true,\n",
       "   \"id\": \"WebTiled_3626\",\n",
       "   \"title\": \"NAIP DC 2013\",\n",
       "   \"type\": \"WebTiledLayer\",\n",
       "   \"layerType\": \"WebTiledLayer\"\n",
       " }]"
      ]
     },
     "execution_count": 59,
     "metadata": {},
     "output_type": "execute_result"
    }
   ],
   "source": [
    "naip_layers"
   ]
  },
  {
   "cell_type": "code",
   "execution_count": 60,
   "id": "5266b33c",
   "metadata": {},
   "outputs": [
    {
     "data": {
      "text/plain": [
       "True"
      ]
     },
     "execution_count": 60,
     "metadata": {},
     "output_type": "execute_result"
    }
   ],
   "source": [
    "web_map_obj.update()"
   ]
  },
  {
   "cell_type": "code",
   "execution_count": null,
   "id": "8b013759",
   "metadata": {},
   "outputs": [],
   "source": []
  },
  {
   "cell_type": "code",
   "execution_count": null,
   "id": "b88d981a",
   "metadata": {},
   "outputs": [],
   "source": []
  }
 ],
 "metadata": {
  "kernelspec": {
   "display_name": "Python 3.7.11",
   "language": "python",
   "name": "python3"
  },
  "language_info": {
   "codemirror_mode": {
    "name": "ipython",
    "version": 3
   },
   "file_extension": ".py",
   "mimetype": "text/x-python",
   "name": "python",
   "nbconvert_exporter": "python",
   "pygments_lexer": "ipython3",
   "version": "3.7.11"
  },
  "vscode": {
   "interpreter": {
    "hash": "16781b3b6eec676e6c8bb81d0e898a4b0706d5d36568974f181d7d925ef2a2cd"
   }
  }
 },
 "nbformat": 4,
 "nbformat_minor": 5
}
