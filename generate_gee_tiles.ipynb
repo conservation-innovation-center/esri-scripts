{
 "cells": [
  {
   "attachments": {},
   "cell_type": "markdown",
   "id": "3e31c516",
   "metadata": {},
   "source": [
    "# Display GEE remote sensing data on ESRI webmaps\n",
    "This notebook provides a basic workflow to allow for the display of remote sensing images available on Google Earth Engine as layers on ESRI webmaps. The webmap and layers holding these images should be created and saved before running this script. The basic process is:\n",
    "\n",
    "1. Images are first curated and processed on GEE.\n",
    "2. We then define visualization parameters and generate tiles and publicly accessible urls. \n",
    "3. These are then used to update the tile url attributes of existing layers on an existing ESRI webmap. \n",
    "\n",
    "This notebook demonstrates the curation and addition of NAIP data, but the process can be used for any image assets available on GEE, including NLCD, Sentinel-2, Sentinel-1, and SRTM Digital Elevation data."
   ]
  },
  {
   "cell_type": "markdown",
   "id": "0a6950b3",
   "metadata": {},
   "source": [
    "## Setup"
   ]
  },
  {
   "cell_type": "code",
   "execution_count": 28,
   "id": "715ca628",
   "metadata": {},
   "outputs": [],
   "source": [
    "# import arc libraries\n",
    "from arcgis.gis import GIS\n",
    "from arcgis.mapping import WebMap\n",
    "\n",
    "import pandas as pd"
   ]
  },
  {
   "cell_type": "code",
   "execution_count": 29,
   "id": "fbe682d7",
   "metadata": {},
   "outputs": [
    {
     "data": {
      "text/html": [
       "<p>To authorize access needed by Earth Engine, open the following\n",
       "        URL in a web browser and follow the instructions:</p>\n",
       "        <p><a href=https://code.earthengine.google.com/client-auth?scopes=https%3A//www.googleapis.com/auth/earthengine%20https%3A//www.googleapis.com/auth/devstorage.full_control&request_id=O_xkly_GkKLJCjs_0Q2ifiNQXjH6FFcuptOrup0NAJs&tc=9vGn8SW_xx59Lh8EUpNxtPykqHDbQW41U-hKLZBeURU&cc=By9RRJfItaOwqe8y-ftBpgfdZCFaWKtTARRYzpCdBc8>https://code.earthengine.google.com/client-auth?scopes=https%3A//www.googleapis.com/auth/earthengine%20https%3A//www.googleapis.com/auth/devstorage.full_control&request_id=O_xkly_GkKLJCjs_0Q2ifiNQXjH6FFcuptOrup0NAJs&tc=9vGn8SW_xx59Lh8EUpNxtPykqHDbQW41U-hKLZBeURU&cc=By9RRJfItaOwqe8y-ftBpgfdZCFaWKtTARRYzpCdBc8</a></p>\n",
       "        <p>The authorization workflow will generate a code, which you should paste in the box below.</p>\n",
       "        "
      ],
      "text/plain": [
       "<IPython.core.display.HTML object>"
      ]
     },
     "metadata": {},
     "output_type": "display_data"
    },
    {
     "name": "stdout",
     "output_type": "stream",
     "text": [
      "\n",
      "Successfully saved authorization token.\n"
     ]
    }
   ],
   "source": [
    "# import and authenticate gee library\n",
    "import ee\n",
    "\n",
    "# trigger an interactive session that will allow you to authenticate to an existing GEE account through a browser\n",
    "ee.Authenticate()\n",
    "ee.Initialize()"
   ]
  },
  {
   "cell_type": "code",
   "execution_count": null,
   "id": "43a610d7",
   "metadata": {},
   "outputs": [],
   "source": [
    "# define some global variables\n",
    "USER = '' # your ArcOnline account that can access organizational assets\n",
    "PASSWORD = '' # password for above account\n",
    "WEBMAP = 'NAIP_viewer' # title of the existing webmap to be updated"
   ]
  },
  {
   "attachments": {},
   "cell_type": "markdown",
   "id": "36df45a2",
   "metadata": {},
   "source": [
    "## GEE\n",
    "Here we use Google Earth Engine to generate new tile urls for naip imagery"
   ]
  },
  {
   "cell_type": "code",
   "execution_count": 5,
   "id": "e2239d2c",
   "metadata": {},
   "outputs": [],
   "source": [
    "# get NAIP and TIGER catalogs\n",
    "NAIP = ee.ImageCollection(\"USDA/NAIP/DOQQ\")\n",
    "TIGER = ee.FeatureCollection(\"TIGER/2018/States\")\n"
   ]
  },
  {
   "cell_type": "code",
   "execution_count": 18,
   "id": "3170924b",
   "metadata": {},
   "outputs": [
    {
     "name": "stdout",
     "output_type": "stream",
     "text": [
      "Index(['State', 'ST', 'STATEFP', 'T1', 'T2', 'T3'], dtype='object')\n"
     ]
    }
   ],
   "source": [
    "NAIP_dates = r\"C:\\Users\\jczawlytko\\code\\LCCAA\\NAIP_dates.csv\"\n",
    "df = pd.read_csv(NAIP_dates)\n",
    "print(df.columns)"
   ]
  },
  {
   "cell_type": "code",
   "execution_count": 30,
   "id": "3df91fe8",
   "metadata": {},
   "outputs": [],
   "source": [
    "# define image visualization parameters\n",
    "naip_viz_params = {\n",
    "  'bands':['R', 'G', 'B'],\n",
    "  'min': 0,\n",
    "  'max': 200\n",
    "}"
   ]
  },
  {
   "cell_type": "code",
   "execution_count": 67,
   "id": "e84ae06e",
   "metadata": {},
   "outputs": [
    {
     "name": "stdout",
     "output_type": "stream",
     "text": [
      "14 sets of tiles generated                        \n"
     ]
    }
   ],
   "source": [
    "# create a dictionary to hold tiles by state keyword\n",
    "TILES = {}\n",
    "\n",
    "# loop thru df\n",
    "\n",
    "for index, row in df.iterrows():\n",
    "    # get state name and T1 and T2 NAIP years\n",
    "    State = row ['State']\n",
    "    T1 = row['T1']\n",
    "    T2 = row['T2']\n",
    "    print(f\"Generating tiles for {row ['State']}                \", end='\\r')\n",
    "    \n",
    "    # get stat bounds\n",
    "    st_bounds = TIGER.filterMetadata('NAME', 'equals', State)\n",
    "\n",
    "    #create state naip collection then filter by T1 and T2 dates\n",
    "    st_naip = NAIP.filterBounds(st_bounds)\n",
    "    naipT1 = st_naip.filterDate(f'{T1}-01-01', f'{T1}-12-31').median()\n",
    "    naipT2 = st_naip.filterDate(f'{T2}-01-01', f'{T2}-12-31').median()\n",
    "\n",
    "    #create \n",
    "    map_id_dict1 = ee.Image(naipT1).getMapId(naip_viz_params)\n",
    "    map_id_dict2 = ee.Image(naipT2).getMapId(naip_viz_params)\n",
    "    tiles1 = map_id_dict1['tile_fetcher'].url_format\n",
    "    tiles2 = map_id_dict2['tile_fetcher'].url_format\n",
    "    TILES[State] = [tiles1, tiles2]\n",
    "    \n",
    "print(f\"{len(TILES)} sets of tiles generated                        \")"
   ]
  },
  {
   "attachments": {},
   "cell_type": "markdown",
   "id": "5427d43c",
   "metadata": {},
   "source": [
    "## ESRI webmap\n",
    "In this section we update the tile urls attributes of the layers on an ESRI webmap. This webmap and layers should exist already  "
   ]
  },
  {
   "cell_type": "code",
   "execution_count": 33,
   "id": "6067c94d",
   "metadata": {},
   "outputs": [],
   "source": [
    "# first we create a arconline client with our credentials\n",
    "\n",
    "gis = GIS(username =  USER, password = PASSWORD)"
   ]
  },
  {
   "cell_type": "code",
   "execution_count": 34,
   "id": "30d2efe2",
   "metadata": {},
   "outputs": [],
   "source": [
    "# find the instance of the webmap we want to display gee imagery on\n",
    "search_results = gis.content.search(query = f'title:{WEBMAP}', item_type = 'Web Map')\n",
    "wm_item = search_results[0]"
   ]
  },
  {
   "cell_type": "code",
   "execution_count": null,
   "id": "48352d28",
   "metadata": {},
   "outputs": [],
   "source": [
    "# cast the existing webmap into a WebMap class object\n",
    "web_map_obj = WebMap(wm_item)"
   ]
  },
  {
   "cell_type": "code",
   "execution_count": 62,
   "id": "21be22f6",
   "metadata": {
    "scrolled": true
   },
   "outputs": [],
   "source": [
    "# obtain the layers that will display NAIP data\n",
    "layers = web_map_obj.layers\n",
    "naip_layers = [layer for layer in layers if 'NAIP' in layer['title']]\n",
    "naip_layers"
   ]
  },
  {
   "cell_type": "code",
   "execution_count": null,
   "id": "178cdb22",
   "metadata": {},
   "outputs": [],
   "source": [
    "for state, tiles in TILES.items():\n",
    "    layers = [naip_layer for naip_layer in naip_layers if state in naip_layer['title']]\n",
    "    [layers[i].update({'templateUrl':tile}) for i, tile in enumerate( tiles)]"
   ]
  },
  {
   "cell_type": "code",
   "execution_count": 40,
   "id": "5266b33c",
   "metadata": {},
   "outputs": [
    {
     "data": {
      "text/plain": [
       "True"
      ]
     },
     "execution_count": 40,
     "metadata": {},
     "output_type": "execute_result"
    }
   ],
   "source": [
    "web_map_obj.update()"
   ]
  }
 ],
 "metadata": {
  "kernelspec": {
   "display_name": "Python 3.7.11 ('esri')",
   "language": "python",
   "name": "python3"
  },
  "language_info": {
   "codemirror_mode": {
    "name": "ipython",
    "version": 3
   },
   "file_extension": ".py",
   "mimetype": "text/x-python",
   "name": "python",
   "nbconvert_exporter": "python",
   "pygments_lexer": "ipython3",
   "version": "3.7.11"
  },
  "vscode": {
   "interpreter": {
    "hash": "5e0c8c21e2a60831224d819dbdd96a66c0ac394ba0938667a2317c8f88ed735d"
   }
  }
 },
 "nbformat": 4,
 "nbformat_minor": 5
}
