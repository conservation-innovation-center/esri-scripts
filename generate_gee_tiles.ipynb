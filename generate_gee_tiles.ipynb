{
 "cells": [
  {
   "cell_type": "markdown",
   "id": "0a6950b3",
   "metadata": {},
   "source": [
    "## Setup"
   ]
  },
  {
   "cell_type": "code",
   "execution_count": 28,
   "id": "715ca628",
   "metadata": {},
   "outputs": [],
   "source": [
    "# import arc libraries\n",
    "from arcgis.gis import GIS\n",
    "from arcgis.mapping import WebMap\n",
    "\n",
    "import pandas as pd\n",
    "\n"
   ]
  },
  {
   "cell_type": "code",
   "execution_count": 29,
   "id": "fbe682d7",
   "metadata": {},
   "outputs": [
    {
     "data": {
      "text/html": [
       "<p>To authorize access needed by Earth Engine, open the following\n",
       "        URL in a web browser and follow the instructions:</p>\n",
       "        <p><a href=https://code.earthengine.google.com/client-auth?scopes=https%3A//www.googleapis.com/auth/earthengine%20https%3A//www.googleapis.com/auth/devstorage.full_control&request_id=O_xkly_GkKLJCjs_0Q2ifiNQXjH6FFcuptOrup0NAJs&tc=9vGn8SW_xx59Lh8EUpNxtPykqHDbQW41U-hKLZBeURU&cc=By9RRJfItaOwqe8y-ftBpgfdZCFaWKtTARRYzpCdBc8>https://code.earthengine.google.com/client-auth?scopes=https%3A//www.googleapis.com/auth/earthengine%20https%3A//www.googleapis.com/auth/devstorage.full_control&request_id=O_xkly_GkKLJCjs_0Q2ifiNQXjH6FFcuptOrup0NAJs&tc=9vGn8SW_xx59Lh8EUpNxtPykqHDbQW41U-hKLZBeURU&cc=By9RRJfItaOwqe8y-ftBpgfdZCFaWKtTARRYzpCdBc8</a></p>\n",
       "        <p>The authorization workflow will generate a code, which you should paste in the box below.</p>\n",
       "        "
      ],
      "text/plain": [
       "<IPython.core.display.HTML object>"
      ]
     },
     "metadata": {},
     "output_type": "display_data"
    },
    {
     "name": "stdout",
     "output_type": "stream",
     "text": [
      "\n",
      "Successfully saved authorization token.\n"
     ]
    }
   ],
   "source": [
    "\n",
    "# import and authenticate gee library\n",
    "import ee\n",
    "ee.Authenticate()\n",
    "ee.Initialize()\n",
    "\n"
   ]
  },
  {
   "cell_type": "markdown",
   "id": "36df45a2",
   "metadata": {},
   "source": [
    "## GEE"
   ]
  },
  {
   "cell_type": "code",
   "execution_count": 5,
   "id": "e2239d2c",
   "metadata": {},
   "outputs": [],
   "source": [
    "# get NAIP and TIGER catalogs\n",
    "NAIP = ee.ImageCollection(\"USDA/NAIP/DOQQ\")\n",
    "TIGER = ee.FeatureCollection(\"TIGER/2018/States\")\n"
   ]
  },
  {
   "cell_type": "code",
   "execution_count": 18,
   "id": "3170924b",
   "metadata": {},
   "outputs": [
    {
     "name": "stdout",
     "output_type": "stream",
     "text": [
      "Index(['State', 'ST', 'STATEFP', 'T1', 'T2', 'T3'], dtype='object')\n"
     ]
    }
   ],
   "source": [
    "NAIP_dates = r\"C:\\Users\\jczawlytko\\code\\LCCAA\\NAIP_dates.csv\"\n",
    "df = pd.read_csv(NAIP_dates)\n",
    "print(df.columns)"
   ]
  },
  {
   "cell_type": "code",
   "execution_count": 30,
   "id": "3df91fe8",
   "metadata": {},
   "outputs": [],
   "source": [
    "naip_viz_params = {\n",
    "    'bands':['R', 'G', 'B'],\n",
    "    'min': 0,\n",
    "    'max': 200\n",
    "    }\n"
   ]
  },
  {
   "cell_type": "code",
   "execution_count": 67,
   "id": "e84ae06e",
   "metadata": {},
   "outputs": [
    {
     "name": "stdout",
     "output_type": "stream",
     "text": [
      "14 sets of tiles generated                        \n"
     ]
    }
   ],
   "source": [
    "#reset tiles list\n",
    "tiles = []\n",
    "\n",
    "# loop thru df\n",
    "\n",
    "for index, row in df.iterrows():\n",
    "    # get state name and T1 and T2 NAIP years\n",
    "    State = row ['State']\n",
    "    T1 = row['T1']\n",
    "    T2 = row['T2']\n",
    "    print(f\"Generating tiles for {row ['State']}                \", end='\\r')\n",
    "    \n",
    "    # get stat bounds\n",
    "    st_bounds = TIGER.filterMetadata('NAME', 'equals', State)\n",
    "\n",
    "    #create state naip collection then filter by T1 and T2 dates\n",
    "    st_naip = NAIP.filterBounds(st_bounds)\n",
    "    naipT1 = st_naip.filterDate(f'{T1}-01-01', f'{T1}-12-31').median()\n",
    "    naipT2 = st_naip.filterDate(f'{T2}-01-01', f'{T2}-12-31').median()\n",
    "\n",
    "    #create \n",
    "    map_id_dict1 = ee.Image(naipT1).getMapId(naip_viz_params)\n",
    "    map_id_dict2 = ee.Image(naipT2).getMapId(naip_viz_params)\n",
    "    tiles1 = map_id_dict1['tile_fetcher'].url_format\n",
    "    tiles2 = map_id_dict2['tile_fetcher'].url_format\n",
    "    tiles.append(tiles1)\n",
    "    tiles.append(tiles2)\n",
    "print(f\"{len(tiles)} sets of tiles generated                        \")"
   ]
  },
  {
   "cell_type": "markdown",
   "id": "5427d43c",
   "metadata": {},
   "source": [
    "## ESRI webmap"
   ]
  },
  {
   "cell_type": "code",
   "execution_count": 33,
   "id": "6067c94d",
   "metadata": {},
   "outputs": [],
   "source": [
    "# first we create a arconline client with our credentials\n",
    "gis = GIS(username =  \"mevans_CC\", password = \"zpbGaefAHAYQ5H1VtXjt\")"
   ]
  },
  {
   "cell_type": "code",
   "execution_count": 34,
   "id": "30d2efe2",
   "metadata": {},
   "outputs": [],
   "source": [
    "# find the instance of the webmap we want to display gee imagery on\n",
    "search_results = gis.content.search(query = 'title:NAIP_viewer', item_type = 'Web Map')\n",
    "wm_item = search_results[0]\n",
    "web_map_obj = WebMap(wm_item)"
   ]
  },
  {
   "cell_type": "code",
   "execution_count": 62,
   "id": "21be22f6",
   "metadata": {
    "scrolled": true
   },
   "outputs": [],
   "source": [
    "layers = web_map_obj.layers\n",
    "naip_layers = [layer for layer in layers if 'NAIP' in layer['title']]\n"
   ]
  },
  {
   "cell_type": "code",
   "execution_count": 57,
   "id": "1f1b527e",
   "metadata": {},
   "outputs": [
    {
     "ename": "IndexError",
     "evalue": "list index out of range",
     "output_type": "error",
     "traceback": [
      "\u001b[1;31m---------------------------------------------------------------------------\u001b[0m",
      "\u001b[1;31mIndexError\u001b[0m                                Traceback (most recent call last)",
      "\u001b[1;32m<ipython-input-57-c39db2ad0942>\u001b[0m in \u001b[0;36m<module>\u001b[1;34m\u001b[0m\n\u001b[1;32m----> 1\u001b[1;33m \u001b[1;33m[\u001b[0m\u001b[0mnaip_layers\u001b[0m\u001b[1;33m[\u001b[0m\u001b[0mi\u001b[0m\u001b[1;33m]\u001b[0m\u001b[1;33m.\u001b[0m\u001b[0mupdate\u001b[0m\u001b[1;33m(\u001b[0m\u001b[1;33m{\u001b[0m\u001b[1;34m'templateUrl'\u001b[0m\u001b[1;33m:\u001b[0m\u001b[0mtile\u001b[0m\u001b[1;33m}\u001b[0m\u001b[1;33m)\u001b[0m \u001b[1;32mfor\u001b[0m \u001b[0mi\u001b[0m\u001b[1;33m,\u001b[0m \u001b[0mtile\u001b[0m \u001b[1;32min\u001b[0m \u001b[0menumerate\u001b[0m\u001b[1;33m(\u001b[0m\u001b[0mtiles\u001b[0m\u001b[1;33m)\u001b[0m\u001b[1;33m]\u001b[0m\u001b[1;33m\u001b[0m\u001b[1;33m\u001b[0m\u001b[0m\n\u001b[0m",
      "\u001b[1;32m<ipython-input-57-c39db2ad0942>\u001b[0m in \u001b[0;36m<listcomp>\u001b[1;34m(.0)\u001b[0m\n\u001b[1;32m----> 1\u001b[1;33m \u001b[1;33m[\u001b[0m\u001b[0mnaip_layers\u001b[0m\u001b[1;33m[\u001b[0m\u001b[0mi\u001b[0m\u001b[1;33m]\u001b[0m\u001b[1;33m.\u001b[0m\u001b[0mupdate\u001b[0m\u001b[1;33m(\u001b[0m\u001b[1;33m{\u001b[0m\u001b[1;34m'templateUrl'\u001b[0m\u001b[1;33m:\u001b[0m\u001b[0mtile\u001b[0m\u001b[1;33m}\u001b[0m\u001b[1;33m)\u001b[0m \u001b[1;32mfor\u001b[0m \u001b[0mi\u001b[0m\u001b[1;33m,\u001b[0m \u001b[0mtile\u001b[0m \u001b[1;32min\u001b[0m \u001b[0menumerate\u001b[0m\u001b[1;33m(\u001b[0m\u001b[0mtiles\u001b[0m\u001b[1;33m)\u001b[0m\u001b[1;33m]\u001b[0m\u001b[1;33m\u001b[0m\u001b[1;33m\u001b[0m\u001b[0m\n\u001b[0m",
      "\u001b[1;31mIndexError\u001b[0m: list index out of range"
     ]
    }
   ],
   "source": [
    "[naip_layers[i].update({'templateUrl':tile}) for i, tile in enumerate(tiles)]"
   ]
  },
  {
   "cell_type": "code",
   "execution_count": 40,
   "id": "5266b33c",
   "metadata": {},
   "outputs": [
    {
     "data": {
      "text/plain": [
       "True"
      ]
     },
     "execution_count": 40,
     "metadata": {},
     "output_type": "execute_result"
    }
   ],
   "source": [
    "web_map_obj.update()"
   ]
  }
 ],
 "metadata": {
  "kernelspec": {
   "display_name": "Python 3.7.11 ('esri')",
   "language": "python",
   "name": "python3"
  },
  "language_info": {
   "codemirror_mode": {
    "name": "ipython",
    "version": 3
   },
   "file_extension": ".py",
   "mimetype": "text/x-python",
   "name": "python",
   "nbconvert_exporter": "python",
   "pygments_lexer": "ipython3",
   "version": "3.7.11"
  },
  "vscode": {
   "interpreter": {
    "hash": "5e0c8c21e2a60831224d819dbdd96a66c0ac394ba0938667a2317c8f88ed735d"
   }
  }
 },
 "nbformat": 4,
 "nbformat_minor": 5
}
