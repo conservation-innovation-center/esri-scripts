{
 "cells": [
  {
   "attachments": {},
   "cell_type": "markdown",
   "metadata": {},
   "source": [
    "## This script allows you to copy a StoryMap from AGOL to Portal \n",
    "#### (or Portal to AGOL, AGOL to AGOL, portal to portal)"
   ]
  },
  {
   "attachments": {},
   "cell_type": "markdown",
   "metadata": {},
   "source": [
    "1. Get your ID of your original StoryMap Handy\n",
    "2. Make sure the StoryMap is published - it can be published privately, but it can't be unpublished\n",
    "3. Have your credentials for AGOL and portal for your orgs handy"
   ]
  },
  {
   "attachments": {},
   "cell_type": "markdown",
   "metadata": {},
   "source": [
    "More info [here](https://developers.arcgis.com/python/samples/clone-storymap-version2/)"
   ]
  },
  {
   "cell_type": "code",
   "execution_count": 3,
   "metadata": {},
   "outputs": [],
   "source": [
    "# import libraries\n",
    "\n",
    "import os\n",
    "import uuid\n",
    "import json\n",
    "import shutil\n",
    "import tempfile\n",
    "\n",
    "from arcgis.gis import GIS\n",
    "from arcgis import __version__"
   ]
  },
  {
   "cell_type": "code",
   "execution_count": null,
   "metadata": {},
   "outputs": [],
   "source": [
    "# Assign a variable to store appropriate version values to differentiate beween each story model.\n",
    "\n",
    "_version = [int(i) for i in __version__.split('.')]\n"
   ]
  },
  {
   "cell_type": "code",
   "execution_count": null,
   "metadata": {},
   "outputs": [],
   "source": [
    "# define a function to export the supporting resources to a zip file for the ArcGIS StoryMap model\n",
    "\n",
    "def export_resources(item, save_path=None, file_name=None):\n",
    "    \"\"\"Export's the data's resources as a zip file\"\"\"\n",
    "    url = \\\n",
    "        f'{item._gis._portal.resturl}content/users/{item._user_id}/items/{item.itemid}/resources/export'\n",
    "    if save_path is None:\n",
    "        save_path = tempfile.gettempdir()\n",
    "    if file_name is None:\n",
    "        file_name = f\"{uuid.uuid4().hex[:6]}.zip\"\n",
    "    params = {'f' : 'zip'}\n",
    "    con = item._gis._portal.con\n",
    "    resources = con.get(url, params=params,\n",
    "                        out_folder=save_path,\n",
    "                        file_name=file_name,\n",
    "                        try_json=False)\n",
    "    return resources"
   ]
  },
  {
   "cell_type": "code",
   "execution_count": null,
   "metadata": {},
   "outputs": [],
   "source": [
    "# Connect to the source and destination GIS organizations\n",
    "# Can change these around but for example we have AGOL to Portal\n",
    "\n",
    "# Create AGOL connection\n",
    "agol_user_input = input(\"AGOL Username: \") # Populate with a username to perform operation\n",
    "agol = GIS(url='https://agol_name.maps.arcgis.com/', username=agol_user_input) # change agol_name\n",
    "\n",
    "# Create Portal connection \n",
    "portal_user_input = input(\"Portal Username: \") # Populate with a username to perform operation\n",
    "portal = GIS(url='https://portal_name.org/portal', username=portal_user_input) #change portal_name\n",
    "\n",
    "gis = agol # Where the StoryMap presently resides\n",
    "dest_gis = portal # Where you would like a copy of the StoryMap"
   ]
  },
  {
   "cell_type": "code",
   "execution_count": null,
   "metadata": {},
   "outputs": [],
   "source": [
    "story_map_id = \"put_story_map_id_here\" # put the item ID for the StoryMap in the quotes (Ex: 358b83b5f776402fa726cfa316aa197c)\n",
    "\n",
    "story_map = gis.content.get(story_map_id)\n",
    "if _version <= [1,8,2]:\n",
    "    resource = export_resources(item=story_map)\n",
    "else:\n",
    "    resource = story_map.resources.export()"
   ]
  },
  {
   "cell_type": "code",
   "execution_count": null,
   "metadata": {},
   "outputs": [],
   "source": [
    "# Visualize the Story Map item details to make sure you got the correct StoryMap\n",
    "story_map"
   ]
  },
  {
   "cell_type": "code",
   "execution_count": null,
   "metadata": {},
   "outputs": [],
   "source": [
    "# Use this to examine the resources used by the Story Map\n",
    "resource "
   ]
  },
  {
   "cell_type": "code",
   "execution_count": null,
   "metadata": {},
   "outputs": [],
   "source": [
    "# Collect the Web Maps and Express Maps using the StoryMap's data. Use the set \n",
    "# operator each item is collected only once for cloning.\n",
    "story_map_json = story_map.get_data(try_json=True) # if this chunk isn't working remember to publish your StoryMap!\n",
    "\n",
    "web_maps = set([v['data']['itemId'] for k, v in story_map_json['resources'].items() \\\n",
    "                if v['type'].lower().find('webmap')>-1])\n",
    "express_maps = set([v['data']['itemId'] for k, v in story_map_json['resources'].items() \\\n",
    "                    if v['type'].lower().find('expressmap')>-1])"
   ]
  },
  {
   "cell_type": "code",
   "execution_count": null,
   "metadata": {},
   "outputs": [],
   "source": [
    "# Clone each Web Map from the StoryMap and assign a dictionary with the source Web Map id as the key, and the cloned Web Map id as the value\n",
    "webmap_mapper = {}\n",
    "for wm in web_maps:\n",
    "    webmap_to_copy = gis.content.get(wm)\n",
    "    cloned_webmaps = dest_gis.content.clone_items([webmap_to_copy]) # Clones the WebMap\n",
    "    webmap_mapper[webmap_to_copy.id] = [i for i in cloned_webmaps if i.type == 'Web Map'][0].id"
   ]
  },
  {
   "cell_type": "code",
   "execution_count": null,
   "metadata": {},
   "outputs": [],
   "source": [
    "# Remap the OLD ItemId to the New Item ID\n",
    "\n",
    "story_map_text = json.dumps(story_map_json)\n",
    "\n",
    "for k, v in webmap_mapper.items():\n",
    "    story_map_text = story_map_text.replace(k, v) # replace the IDs"
   ]
  },
  {
   "cell_type": "code",
   "execution_count": null,
   "metadata": {},
   "outputs": [],
   "source": [
    "# Create a new StoryMap item in the Destination GIS\n",
    "new_item = dest_gis.content.add({'type' : story_map.type,\n",
    "                                 'tags' : story_map.tags,\n",
    "                                 'title' : story_map.title,\n",
    "                                 'description' : story_map.description,\n",
    "                                 'typeKeywords' : story_map.typeKeywords,\n",
    "                                 'extent' : story_map.extent,\n",
    "                                 'text' :story_map_text}\n",
    "                                )"
   ]
  },
  {
   "cell_type": "code",
   "execution_count": null,
   "metadata": {},
   "outputs": [],
   "source": [
    "# view new item to make sure it worked\n",
    "new_item"
   ]
  },
  {
   "cell_type": "code",
   "execution_count": null,
   "metadata": {},
   "outputs": [],
   "source": [
    "# download the original item thumbnail to use to update our new StoryMap\n",
    "orig_thumbnail = story_map.download_thumbnail(r\"your/file/path\")\n",
    "orig_thumbnail = story_map.download_thumbnail(r\"C:/Job/sftriage/thumbnails/\")"
   ]
  },
  {
   "cell_type": "code",
   "execution_count": null,
   "metadata": {},
   "outputs": [],
   "source": [
    "# make sure this is TRUE\n",
    "new_item.update(thumbnail=orig_thumbnail)\n",
    "\n",
    "# check to see the update\n",
    "new_item\n"
   ]
  },
  {
   "cell_type": "code",
   "execution_count": null,
   "metadata": {},
   "outputs": [],
   "source": [
    "# get new item id\n",
    "new_item.id\n",
    "\n",
    "# THIS IS IMPORTANT FOR EDITING AND VIEWING\n",
    "\n",
    "#Update the original StoryMap url --- note this is for AGOL to portal \n",
    "new_item.update({'url': story_map.url.replace(story_map.url, \"https://org_name.org/portal/apps/storymaps/stories/new_item_id\")})\n",
    "\n",
    "# AGOL org to different AGOL org or portal org to portal org\n",
    "# new_item.update({'url': story_map.url.replace(story_map.id, new_item.id)})\n",
    "\n",
    "# portal to agol\n",
    "# new_item.update({'url': story_map.url.replace(story_map.url, \"https://storymaps.arcgis.com/stories/new_item_id\")})\n",
    "\n"
   ]
  },
  {
   "cell_type": "code",
   "execution_count": null,
   "metadata": {},
   "outputs": [],
   "source": [
    "# Do this to enable editing - if you can't edit you didn't run this!\n",
    "\n",
    "with tempfile.NamedTemporaryFile(mode='w', suffix='.json', \n",
    "                                 dir=tempfile.gettempdir(), \n",
    "                                 delete=False) as jsonfile:\n",
    "    jsonfile.write(json.dumps(new_item.get_data()))\n",
    "    new_item.resources.add(file=jsonfile.name)\n",
    "    type_keywords = [tk for tk in new_item.typeKeywords if 'smdraftresourceid:' not in tk]\n",
    "    type_keywords.append(f'smdraftresourceid:{os.path.basename(jsonfile.name)}')\n",
    "    new_item.update({'typeKeywords' : type_keywords})"
   ]
  },
  {
   "cell_type": "code",
   "execution_count": null,
   "metadata": {},
   "outputs": [],
   "source": [
    "# optional - transfer express maps\n",
    "\n",
    "if len(express_maps) > 0:\n",
    "    with tempfile.TemporaryDirectory() as d:\n",
    "        shutil.unpack_archive(filename=resource, extract_dir=d)\n",
    "        for expmap in express_maps:\n",
    "            express_draft = os.path.join(d, \"draft_\"+ expmap)\n",
    "            express_pub = os.path.join(d, \"pub_\" + expmap)\n",
    "            if os.path.isfile(express_pub):\n",
    "                shutil.copy(express_pub, express_draft)\n",
    "                new_item.resources.add(express_draft)"
   ]
  },
  {
   "cell_type": "code",
   "execution_count": null,
   "metadata": {},
   "outputs": [],
   "source": [
    "# Check it out-- if it doesn't work double check above step was configured properly\n",
    "print(\"your new item can be found here: \" + new_item.homepage)\n"
   ]
  },
  {
   "attachments": {},
   "cell_type": "markdown",
   "metadata": {},
   "source": [
    "## That's it!"
   ]
  }
 ],
 "metadata": {
  "kernelspec": {
   "display_name": "Python 3",
   "language": "python",
   "name": "python3"
  },
  "language_info": {
   "codemirror_mode": {
    "name": "ipython",
    "version": 3
   },
   "file_extension": ".py",
   "mimetype": "text/x-python",
   "name": "python",
   "nbconvert_exporter": "python",
   "pygments_lexer": "ipython3",
   "version": "3.7.11"
  },
  "orig_nbformat": 4,
  "vscode": {
   "interpreter": {
    "hash": "ce21b655b4d6c9e397d5ad93d5666c623f49909f6d0cc2f72076dafcf1b3ecfb"
   }
  }
 },
 "nbformat": 4,
 "nbformat_minor": 2
}
